{
 "cells": [
  {
   "cell_type": "code",
   "execution_count": 4,
   "id": "3128a9cf-ae35-4ada-9c4a-6c5d8b36ce1d",
   "metadata": {},
   "outputs": [
    {
     "data": {
      "text/plain": [
       "loan_status\n",
       "0    0.80047\n",
       "1    0.19953\n",
       "Name: proportion, dtype: float64"
      ]
     },
     "execution_count": 4,
     "metadata": {},
     "output_type": "execute_result"
    }
   ],
   "source": [
    "import pandas as pd\n",
    "df=pd.read_csv(\"Cleaned_data.csv\",nrows=20000)\n",
    "df['loan_status'].value_counts(normalize=True)"
   ]
  },
  {
   "cell_type": "code",
   "execution_count": 5,
   "id": "ab97d648-0edc-4b00-9c23-8bf3957de1b9",
   "metadata": {},
   "outputs": [],
   "source": [
    "# import seaborn as sns\n",
    "# import matplotlib.pyplot as plt\n",
    "\n",
    "# sns.boxplot(x='loan_status', y='loan_amnt', data=df)\n",
    "# plt.show()\n",
    "# sns.histplot(df['int_rate'], kde=True)\n",
    "# plt.show()\n",
    "# sns.countplot(x='grade', hue='loan_status', data=df)\n",
    "# plt.show()"
   ]
  },
  {
   "cell_type": "code",
   "execution_count": 6,
   "id": "63f7bb3f-76c4-4baa-a17c-3c0438376e26",
   "metadata": {},
   "outputs": [],
   "source": [
    "from sklearn.model_selection import train_test_split\n",
    "X=df.drop(columns=['loan_status','grade','sub_grade'],errors='ignore')\n",
    "y=df['loan_status']\n",
    "X_train,X_test,y_train,y_test=train_test_split(X,y,test_size=0.2,random_state=42)"
   ]
  },
  {
   "cell_type": "code",
   "execution_count": 7,
   "id": "4982add1-da91-4d7e-895a-20263996182b",
   "metadata": {},
   "outputs": [
    {
     "name": "stdout",
     "output_type": "stream",
     "text": [
      "[0.2  0.21 0.39 ... 0.36 0.41 0.17]\n",
      "              precision    recall  f1-score   support\n",
      "\n",
      "           0       0.81      0.98      0.89      2653\n",
      "           1       0.54      0.11      0.18       669\n",
      "\n",
      "    accuracy                           0.80      3322\n",
      "   macro avg       0.68      0.54      0.54      3322\n",
      "weighted avg       0.76      0.80      0.75      3322\n",
      "\n",
      "ROC AUC Score: 0.6918650347605468\n"
     ]
    }
   ],
   "source": [
    "from sklearn.ensemble import RandomForestClassifier\n",
    "from sklearn.metrics import classification_report, roc_auc_score\n",
    "\n",
    "model = RandomForestClassifier()\n",
    "model.fit(X_train, y_train)\n",
    "X.head()\n",
    "y_pred = model.predict(X_test)\n",
    "y_prob = model.predict_proba(X_test)[:, 1]\n",
    "print (y_prob)\n",
    "print(classification_report(y_test, y_pred))\n",
    "print(\"ROC AUC Score:\", roc_auc_score(y_test, y_prob))"
   ]
  },
  {
   "cell_type": "code",
   "execution_count": 8,
   "id": "03c5cfc0-c800-49fe-8dfd-786bdc59c994",
   "metadata": {},
   "outputs": [],
   "source": [
    "import pandas as pd\n",
    "\n",
    "# Sample dataset with the most important features for credit risk modeling\n",
    "sample_data = {\n",
    "    'loan_amnt': [5000, 10000, 15000, 20000, 12000],\n",
    "    'funded_amnt': [5000, 10000, 15000, 20000, 12000],\n",
    "    'int_rate': [10.65, 13.49, 7.90, 15.27, 18.99],\n",
    "    'installment': [162.87, 234.56, 472.31, 586.45, 386.45],\n",
    "    'annual_inc': [24000, 55000, 65000, 72000, 36000],\n",
    "    'dti': [27.65, 1.00, 8.72, 20.00, 12.50],\n",
    "    'revol_bal': [13648, 1687, 2956, 5598, 2500],\n",
    "    'revol_util': [83.7, 9.4, 53.9, 45.0, 30.1],\n",
    "    'open_acc': [3, 3, 2, 10, 5],\n",
    "    'total_acc': [9, 4, 10, 37, 12],\n",
    "    'delinq_2yrs': [0, 0, 0, 1, 0],\n",
    "    'inq_last_6mths': [1, 0, 0, 2, 1],\n",
    "    'pub_rec': [0, 0, 0, 0, 0],\n",
    "    'term': [36, 60, 36, 60, 36],\n",
    "    'emp_length': [10, 2, 5, 8, 1],\n",
    "    'home_ownership': ['RENT', 'MORTGAGE', 'RENT', 'RENT', 'OWN'],\n",
    "    'verification_status': ['Verified', 'Source Verified', 'Verified', 'Not Verified', 'Source Verified'],\n",
    "    'purpose': ['credit_card', 'debt_consolidation', 'credit_card', 'home_improvement', 'other'],\n",
    "    'application_type': ['Individual', 'Individual', 'Individual', 'Individual', 'Individual'],\n",
    "    'grade': ['B', 'C', 'A', 'D', 'E'],\n",
    "    'sub_grade': ['B2', 'C4', 'A1', 'D5', 'E1'],\n",
    "    'loan_status': [0, 1, 0, 1, 0]\n",
    "}\n",
    "\n",
    "df_sample = pd.DataFrame(sample_data)\n",
    "\n",
    "# Save to CSV\n",
    "file_path = \"/Users/shashankdubey/Documents/Finance Project/sample_data.csv\"\n",
    "df_sample.to_csv(file_path, index=False)"
   ]
  },
  {
   "cell_type": "code",
   "execution_count": 9,
   "id": "d580c7c1-0dd8-4c71-8061-d0bf0a92ba12",
   "metadata": {},
   "outputs": [
    {
     "name": "stdout",
     "output_type": "stream",
     "text": [
      "💰 Total simulated profit: -2585000\n"
     ]
    }
   ],
   "source": [
    "# Simulate a loan approval strategy\n",
    "def simulate_profit(prob, actual, threshold=0.4):\n",
    "    if prob > threshold:\n",
    "        return 0  # reject loan = no profit/loss\n",
    "    else:\n",
    "        return -10000 if actual == 1 else 1000  # default → loss, else gain\n",
    "\n",
    "# Apply over test set\n",
    "profits = [simulate_profit(p, a) for p, a in zip(y_prob, y_test)]\n",
    "print(\"💰 Total simulated profit:\", sum(profits))\n"
   ]
  },
  {
   "cell_type": "code",
   "execution_count": 10,
   "id": "3f4d765b-9d81-47b0-a110-78a5ee5430d8",
   "metadata": {},
   "outputs": [
    {
     "data": {
      "image/png": "[encoded data removed]",
      "text/plain": [
       "<Figure size 640x480 with 1 Axes>"
      ]
     },
     "metadata": {},
     "output_type": "display_data"
    }
   ],
   "source": [
    "import numpy as np\n",
    "import matplotlib.pyplot as plt\n",
    "\n",
    "thresholds = np.linspace(0.1, 0.9, 50)\n",
    "profits = []\n",
    "\n",
    "for t in thresholds:\n",
    "    p = [simulate_profit(p, a, t) for p, a in zip(y_prob, y_test)]\n",
    "    profits.append(sum(p))\n",
    "\n",
    "plt.plot(thresholds, profits)\n",
    "plt.xlabel(\"Approval Threshold\")\n",
    "plt.ylabel(\"Simulated Profit (₹)\")\n",
    "plt.title(\"Profit vs Threshold\")\n",
    "plt.grid(True)"
   ]
  }
 ],
 "metadata": {
  "kernelspec": {
   "display_name": "Python [conda env:base] *",
   "language": "python",
   "name": "conda-base-py"
  },
  "language_info": {
   "codemirror_mode": {
    "name": "ipython",
    "version": 3
   },
   "file_extension": ".py",
   "mimetype": "text/x-python",
   "name": "python",
   "nbconvert_exporter": "python",
   "pygments_lexer": "ipython3",
   "version": "3.13.5"
  }
 },
 "nbformat": 4,
 "nbformat_minor": 5
}
