{
 "cells": [
  {
   "cell_type": "code",
   "execution_count": 1,
   "id": "b34e777e-dd14-4ac8-b51a-d924003f1d7c",
   "metadata": {},
   "outputs": [
    {
     "name": "stderr",
     "output_type": "stream",
     "text": [
      "/var/folders/sb/37phnx_11zdbn0c84smbnd800000gn/T/ipykernel_5129/2024471471.py:2: DtypeWarning: Columns (19) have mixed types. Specify dtype option on import or set low_memory=False.\n",
      "  df = pd.read_csv(\"accepted_2007_to_2018Q4.csv\", nrows=20000)\n",
      "/var/folders/sb/37phnx_11zdbn0c84smbnd800000gn/T/ipykernel_5129/2024471471.py:16: FutureWarning: Downcasting behavior in `replace` is deprecated and will be removed in a future version. To retain the old behavior, explicitly call `result.infer_objects(copy=False)`. To opt-in to the future behavior, set `pd.set_option('future.no_silent_downcasting', True)`\n",
      "  df['emp_length'] = df['emp_length'].replace({\n"
     ]
    }
   ],
   "source": [
    "import pandas as pd\n",
    "df = pd.read_csv(\"accepted_2007_to_2018Q4.csv\", nrows=20000)\n",
    "df = df[df['loan_status'].isin(['Fully Paid', 'Charged Off'])]\n",
    "df['loan_status'] = df['loan_status'].map({'Fully Paid': 0, 'Charged Off': 1})\n",
    "useful_cols = [\n",
    "    'loan_amnt','int_rate', 'funded_amnt', 'installment', 'annual_inc', 'dti',\n",
    "    'revol_bal', 'revol_util', 'open_acc', 'total_acc', 'delinq_2yrs',\n",
    "    'inq_last_6mths', 'pub_rec', 'term', 'emp_length',\n",
    "    'home_ownership', 'verification_status', 'purpose',\n",
    "    'application_type', 'grade', 'sub_grade', 'loan_status'\n",
    "]\n",
    "df = df[useful_cols].copy()\n",
    "df['int_rate'] = df['int_rate'].astype(str).str.rstrip('%').astype(float)\n",
    "df['revol_util'] = df['revol_util'].astype(str).str.rstrip('%').astype(float)\n",
    "df['term'] = df['term'].astype(str).str.extract('(\\d+)').astype(float)\n",
    "df['emp_length'] = df['emp_length'].replace({\n",
    "    '10+ years': 10, '9 years': 9, '8 years': 8, '7 years': 7,\n",
    "    '6 years': 6, '5 years': 5, '4 years': 4, '3 years': 3,\n",
    "    '2 years': 2, '1 year': 1, '< 1 year': 0.5, 'n/a': None\n",
    "}).astype(float)\n",
    "df['loan_to_income'] = df['loan_amnt'] / df['annual_inc']\n",
    "df = df.dropna()\n",
    "cat_cols = [ 'grade','sub_grade','home_ownership', 'verification_status',\n",
    "            'purpose', 'application_type']\n",
    "df = pd.get_dummies(df, columns=cat_cols, drop_first=True)\n",
    "df['loan_status'].value_counts(normalize=True)\n",
    "df.to_csv(\"/Users/shashankdubey/Documents/Finance Project/Cleaned_data.csv\", index=False)"
   ]
  },
  {
   "cell_type": "code",
   "execution_count": null,
   "id": "13531a46-26fb-4b4c-b95a-0d85bba0ec63",
   "metadata": {},
   "outputs": [],
   "source": []
  }
 ],
 "metadata": {
  "kernelspec": {
   "display_name": "Python [conda env:base] *",
   "language": "python",
   "name": "conda-base-py"
  },
  "language_info": {
   "codemirror_mode": {
    "name": "ipython",
    "version": 3
   },
   "file_extension": ".py",
   "mimetype": "text/x-python",
   "name": "python",
   "nbconvert_exporter": "python",
   "pygments_lexer": "ipython3",
   "version": "3.13.5"
  }
 },
 "nbformat": 4,
 "nbformat_minor": 5
}
